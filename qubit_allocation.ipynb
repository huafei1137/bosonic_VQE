{
 "cells": [
  {
   "cell_type": "code",
   "execution_count": 26,
   "metadata": {},
   "outputs": [],
   "source": [
    "import matplotlib.pyplot as plt\n",
    "import networkx as nx\n",
    "def find_non_i_indices(pauli_string):\n",
    "    indices = []\n",
    "    prev_non_i_index = None\n",
    "\n",
    "    for index, char in enumerate(pauli_string):\n",
    "        if char != 'I':\n",
    "            if prev_non_i_index is not None:\n",
    "                indices.append((prev_non_i_index, index))\n",
    "            prev_non_i_index = index\n",
    "\n",
    "    return indices\n",
    "def build_graph(pauli_strings):\n",
    "    edges = []\n",
    "    for p in pauli_strings:\n",
    "        edges += find_non_i_indices(p)\n",
    "    print(edges)\n",
    "    graph=nx.Graph()\n",
    "    edge_counts = {}\n",
    "    for e in edges:\n",
    "        a = e[0]\n",
    "        b = e[1]\n",
    "        graph.add_edge(a, b)\n",
    "            \n",
    "            # Increment the edge count\n",
    "        edge_counts[(a, b)] = edge_counts.get((a, b), 0) + 1\n",
    "\n",
    "    # Draw the graph\n",
    "    pos = nx.spring_layout(graph)  # Positions of the nodes\n",
    "    edge_labels = {(a, b): count for (a, b), count in edge_counts.items()}  # Labels for edge weights\n",
    "\n",
    "    # Draw nodes\n",
    "    nx.draw_networkx_nodes(graph, pos, node_color='lightblue', node_size=500)\n",
    "\n",
    "    # Draw edges\n",
    "    nx.draw_networkx_edges(graph, pos)\n",
    "\n",
    "    # Draw edge labels\n",
    "    nx.draw_networkx_edge_labels(graph, pos, edge_labels=edge_labels)\n",
    "\n",
    "    # Draw node labels\n",
    "    node_labels = {idx: idx for idx in graph.nodes()}\n",
    "    nx.draw_networkx_labels(graph, pos, labels=node_labels)\n",
    "\n",
    "    # Show the graph\n",
    "    plt.axis('off')\n",
    "    plt.show()        \n",
    "    return graph\n",
    "\n",
    "# Example usage\n",
    "\n",
    "\n"
   ]
  },
  {
   "attachments": {},
   "cell_type": "markdown",
   "metadata": {},
   "source": [
    "### Build Graph based on CX gate frequency"
   ]
  },
  {
   "cell_type": "code",
   "execution_count": 55,
   "metadata": {},
   "outputs": [
    {
     "name": "stdout",
     "output_type": "stream",
     "text": [
      "[(1, 2), (2, 3), (3, 4), (1, 2), (2, 3), (3, 4), (0, 3), (3, 4)]\n"
     ]
    },
    {
     "data": {
      "image/png": "[encoded data removed]",
      "text/plain": [
       "<Figure size 640x480 with 1 Axes>"
      ]
     },
     "metadata": {},
     "output_type": "display_data"
    },
    {
     "name": "stdout",
     "output_type": "stream",
     "text": [
      "{(1, 2): 2, (2, 3): 2, (3, 4): 3, (0, 3): 1}\n"
     ]
    }
   ],
   "source": [
    "pauli_strings = ['IZZXY', 'IXZYY', 'XIIZX']\n",
    "graph = build_graph(pauli_strings)\n",
    "print(edge_counts)"
   ]
  },
  {
   "cell_type": "markdown",
   "metadata": {},
   "source": [
    "### Classical Max-Cut using any groups"
   ]
  },
  {
   "cell_type": "code",
   "execution_count": 72,
   "metadata": {},
   "outputs": [
    {
     "name": "stdout",
     "output_type": "stream",
     "text": [
      "Cut Groups: [1, 0, 1, 0, 1]\n",
      "Weighted Cut Size: 8\n"
     ]
    }
   ],
   "source": [
    "import networkx as nx\n",
    "import random\n",
    "\n",
    "def classical_max_cut(graph, num_groups, edge_counts,num_iterations=100):\n",
    "    best_cut_size = -1\n",
    "    best_cut = None\n",
    "\n",
    "    for _ in range(num_iterations):\n",
    "        cut = []\n",
    "        for node in graph.nodes:\n",
    "            cut.append(random.randint(0, num_groups - 1))\n",
    "\n",
    "        cut_size = 0\n",
    "        for edge in graph.edges:\n",
    "            if cut[edge[0]] != cut[edge[1]]:\n",
    "                if (edge[0],edge[1]) in edge_counts:\n",
    "                    cut_size += edge_counts[(edge[0], edge[1])]\n",
    "                if (edge[1],edge[0]) in edge_counts:\n",
    "                    cut_size += edge_counts[(edge[1], edge[0])]\n",
    "                    \n",
    "\n",
    "\n",
    "\n",
    "\n",
    "        if cut_size > best_cut_size:\n",
    "            best_cut_size = cut_size\n",
    "            best_cut = cut\n",
    "\n",
    "    return best_cut, best_cut_size\n",
    "\n",
    "# Example usage\n",
    "\n",
    "\n",
    "num_groups = 2  # Change the number of groups as desired\n",
    "cut, cut_size = classical_max_cut(graph, num_groups,edge_counts)\n",
    "\n",
    "# Print the cut groups and weighted cut size\n",
    "print(\"Cut Groups:\", cut)\n",
    "print(\"Weighted Cut Size:\", cut_size)\n"
   ]
  }
 ],
 "metadata": {
  "kernelspec": {
   "display_name": "base",
   "language": "python",
   "name": "python3"
  },
  "language_info": {
   "codemirror_mode": {
    "name": "ipython",
    "version": 3
   },
   "file_extension": ".py",
   "mimetype": "text/x-python",
   "name": "python",
   "nbconvert_exporter": "python",
   "pygments_lexer": "ipython3",
   "version": "3.10.9"
  },
  "orig_nbformat": 4
 },
 "nbformat": 4,
 "nbformat_minor": 2
}
